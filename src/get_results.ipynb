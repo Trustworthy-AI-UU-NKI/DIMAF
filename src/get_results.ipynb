{
 "cells": [
  {
   "cell_type": "code",
   "execution_count": null,
   "metadata": {},
   "outputs": [],
   "source": [
    "import numpy as np\n",
    "import json"
   ]
  },
  {
   "cell_type": "markdown",
   "metadata": {},
   "source": [
    "# Obtain test results"
   ]
  },
  {
   "cell_type": "code",
   "execution_count": null,
   "metadata": {},
   "outputs": [],
   "source": [
    "def get_results(filepath):\n",
    "    \"\"\" Load results from JSON file. \"\"\"\n",
    "    with open(filepath, 'r') as file:\n",
    "        data = json.load(file)\n",
    "    return data\n",
    "\n",
    "def obtain_test_results(type_of_survival, exp_name):\n",
    "    \"\"\" Print test results for a specific type of survival and experiment name. \"\"\"\n",
    "    # Skip these results\n",
    "    list_non_keys = [\"loss\", \"survival_loss\", \"disentanglement_loss\", \"disentanglement_multi_loss\", \"disentanglement_single_loss\"]\n",
    "    fold_res_file = f\"results/{type_of_survival}/{exp_name}/Final_results.json\"\n",
    "    result_data = get_results(fold_res_file)\n",
    "\n",
    "    # Store results over all folds in one list\n",
    "    all_results = []\n",
    "    for key, value in result_data.items():\n",
    "        all_results.append(value)\n",
    "        \n",
    "    # Combine results for each key over all folds\n",
    "    keys = value.keys()\n",
    "    combined_results_data = {key: np.array([d[key] for d in all_results]) for key in keys}\n",
    "    means = {key: np.mean(values) for key, values in combined_results_data.items()}\n",
    "    stds = {key: np.std(values) for key, values in combined_results_data.items()} \n",
    "\n",
    "    print(f\"Results of {type_of_survival} for experiment {exp_name}:\")     \n",
    "    for key in combined_results_data:\n",
    "        if not key in list_non_keys:\n",
    "            mean = means[key]\n",
    "            std = stds[key]\n",
    "            print(f\"{key}: {mean:.3f}±{std:.3f}\")\n"
   ]
  },
  {
   "cell_type": "code",
   "execution_count": null,
   "metadata": {},
   "outputs": [],
   "source": [
    "# Print results\n",
    "c_index = obtain_test_results(type='dss_survival_kirc', exp_name='DIMAF')"
   ]
  }
 ],
 "metadata": {
  "kernelspec": {
   "display_name": "mmp",
   "language": "python",
   "name": "python3"
  },
  "language_info": {
   "codemirror_mode": {
    "name": "ipython",
    "version": 3
   },
   "file_extension": ".py",
   "mimetype": "text/x-python",
   "name": "python",
   "nbconvert_exporter": "python",
   "pygments_lexer": "ipython3",
   "version": "3.9.19"
  }
 },
 "nbformat": 4,
 "nbformat_minor": 2
}
