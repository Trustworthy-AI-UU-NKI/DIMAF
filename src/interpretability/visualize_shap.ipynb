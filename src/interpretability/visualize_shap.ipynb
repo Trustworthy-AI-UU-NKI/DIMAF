{
 "cells": [
  {
   "cell_type": "markdown",
   "metadata": {},
   "source": [
    "# SHAP"
   ]
  },
  {
   "cell_type": "code",
   "execution_count": null,
   "metadata": {},
   "outputs": [],
   "source": [
    "import os\n",
    "import shap\n",
    "import pickle\n",
    "import numpy as np\n",
    "import matplotlib.pyplot as plt"
   ]
  },
  {
   "cell_type": "code",
   "execution_count": null,
   "metadata": {},
   "outputs": [],
   "source": [
    "def get_results_data(pkl_path):\n",
    "    \"\"\"Load data from pickle file.\"\"\"\n",
    "    results = pickle.load(open(pkl_path, 'rb'))        \n",
    "    return results\n",
    "\n",
    "def get_plot_single_sample(sample, surv_type, exp_name, fold, max_display=15):\n",
    "    \"\"\" Plot SHAP values for a single sample.\"\"\"\n",
    "    # Get shap values of this sample\n",
    "    result_dir = f'../results/dss_survival_{surv_type}/{exp_name}/Fold_{fold}/shap/post_attn_shap.pkl'\n",
    "    results_dict = get_results_data(result_dir)\n",
    "    shap_values = results_dict['shap values']\n",
    "    feat_names = results_dict['Feature names']\n",
    "    print(results_dict['Samples'])\n",
    "    sample_index = next((i for i, lst in enumerate(results_dict['Samples']) if lst[0] == sample), None)\n",
    "    print(\"Sample ID:\", sample)\n",
    "    shap_of_one_sample = np.sum(np.expand_dims(shap_values[sample_index], axis=0), axis=2)\n",
    "    sample_expl = shap.Explanation(values=shap_of_one_sample, feature_names=feat_names)\n",
    "\n",
    "    # Plot multimodal features\n",
    "    shap.plots.bar(sample_expl[0], max_display=max_display)\n",
    "    plt.show()\n",
    "\n",
    "def get_vals(values):\n",
    "    \"\"\" Get mean absolute SHAP values. \"\"\"\n",
    "    sum_vals = np.sum(values, axis=(1,2))\n",
    "    shap_val = np.mean(np.absolute(sum_vals), axis=(0))\n",
    "    return shap_val\n",
    "\n",
    "def print_res(name, results):\n",
    "    \"\"\" Print mean and std of results. \"\"\"\n",
    "    results_np = np.array(results)\n",
    "    mean = round(np.mean(results_np), 3)\n",
    "    std = round(np.std(results_np), 3)\n",
    "    print(f\"{name}: {mean}±{std}\")\n",
    "\n",
    "\n",
    "def get_results_post_attn(surv_type, exp_name):\n",
    "    \"\"\" Get and print results of post attention SHAP values. \"\"\"\n",
    "    result_dir = f'../results/dss_survival_{surv_type}/{exp_name}'\n",
    "\n",
    "    spec, shar = [], []\n",
    "    spec_hh, spec_gg, shar_hg, shar_gh = [], [], [], []\n",
    "\n",
    "    # Loop over folds\n",
    "    for i in range(5):\n",
    "        # Get all SHAP values\n",
    "        result_dir_fold = os.path.join(result_dir, f'Fold_{i}/shap/post_attn_shap.pkl')\n",
    "        results_dict = get_results_data(result_dir_fold)\n",
    "        shap_values = results_dict['shap values']\n",
    "\n",
    "        # Get normalized mean absolute SHAP values of modality specific and modality shared representations\n",
    "        spec_fold = get_vals(np.concatenate((shap_values[:, :50, :], shap_values[:, -16:, :]), axis=1))\n",
    "        shar_fold = get_vals(shap_values[:, 50:116, :])\n",
    "\n",
    "        spec_norm = spec_fold / (spec_fold + shar_fold)\n",
    "        shar_norm = shar_fold / (spec_fold + shar_fold)\n",
    "\n",
    "        spec.append(spec_norm)\n",
    "        shar.append(shar_norm)\n",
    "\n",
    "        # Get normalized mean absolute SHAP values of all 4 disentangled representations seperately\n",
    "        spec_hh_fold = get_vals(shap_values[:, -16:, :])\n",
    "        spec_gg_fold = get_vals(shap_values[:, :50, :])\n",
    "        shar_hg_fold = get_vals(shap_values[:, 50:100, :])\n",
    "        shar_gh_fold = get_vals(shap_values[:, 100:116, :])\n",
    "\n",
    "        spec_hh_norm = spec_hh_fold / (spec_hh_fold + shar_hg_fold + shar_gh_fold + spec_gg_fold)\n",
    "        spec_gg_norm = spec_gg_fold / (spec_hh_fold + shar_hg_fold + shar_gh_fold + spec_gg_fold)\n",
    "        shar_hg_norm = shar_hg_fold / (spec_hh_fold + shar_hg_fold + shar_gh_fold + spec_gg_fold)\n",
    "        shar_gh_norm = shar_gh_fold / (spec_hh_fold + shar_hg_fold + shar_gh_fold + spec_gg_fold)\n",
    "\n",
    "        spec_hh.append(spec_hh_norm)\n",
    "        spec_gg.append(spec_gg_norm)\n",
    "        shar_hg.append(shar_hg_norm)\n",
    "        shar_gh.append(shar_gh_norm)\n",
    "\n",
    "    # Print results\n",
    "    print_res(\"Specific\", spec)\n",
    "    print_res(\"Shared\", shar)\n",
    "    print_res(\"Specific Zp hh\", spec_hh)\n",
    "    print_res(\"Specific Zp gg\", spec_gg)\n",
    "    print_res(\"Shared Zp gh\", shar_gh)\n",
    "    print_res(\"Shared Zp hg\", shar_hg)\n"
   ]
  },
  {
   "cell_type": "markdown",
   "metadata": {},
   "source": [
    "# Get SHAP results BRCA"
   ]
  },
  {
   "cell_type": "code",
   "execution_count": null,
   "metadata": {},
   "outputs": [],
   "source": [
    "exp_name = 'DIMAFNEW'\n",
    "get_results_post_attn('brca', exp_name)"
   ]
  },
  {
   "cell_type": "code",
   "execution_count": null,
   "metadata": {},
   "outputs": [],
   "source": [
    "# We can also plot the local multimodal feature importance plot of one sample\n",
    "id = 'TCGA-A7-A0CJ'\n",
    "fold = 2\n",
    "get_plot_single_sample(id, 'brca', exp_name, fold)"
   ]
  }
 ],
 "metadata": {
  "kernelspec": {
   "display_name": "dimaf2",
   "language": "python",
   "name": "python3"
  },
  "language_info": {
   "codemirror_mode": {
    "name": "ipython",
    "version": 3
   },
   "file_extension": ".py",
   "mimetype": "text/x-python",
   "name": "python",
   "nbconvert_exporter": "python",
   "pygments_lexer": "ipython3",
   "version": "3.9.23"
  }
 },
 "nbformat": 4,
 "nbformat_minor": 2
}
