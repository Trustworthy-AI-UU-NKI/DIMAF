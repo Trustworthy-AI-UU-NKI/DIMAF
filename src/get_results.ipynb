{
 "cells": [
  {
   "cell_type": "code",
   "execution_count": 7,
   "metadata": {},
   "outputs": [],
   "source": [
    "import numpy as np\n",
    "import json"
   ]
  },
  {
   "cell_type": "markdown",
   "metadata": {},
   "source": [
    "# Obtain test results"
   ]
  },
  {
   "cell_type": "code",
   "execution_count": 8,
   "metadata": {},
   "outputs": [],
   "source": [
    "def get_results(filepath):\n",
    "    \"\"\" Load results from JSON file. \"\"\"\n",
    "    with open(filepath, 'r') as file:\n",
    "        data = json.load(file)\n",
    "    return data\n",
    "\n",
    "def obtain_test_results(type_of_survival, exp_name):\n",
    "    \"\"\" Print test results for a specific type of survival and experiment name. \"\"\"\n",
    "    # Skip these results\n",
    "    list_non_keys = [\"loss\", \"survival_loss\", \"disentanglement_loss\", \"disentanglement_multi_loss\", \"disentanglement_single_loss\"]\n",
    "    fold_res_file = f\"results/{type_of_survival}/{exp_name}/Final_results.json\"\n",
    "    result_data = get_results(fold_res_file)\n",
    "\n",
    "    # Store results over all folds in one list\n",
    "    all_results = []\n",
    "    for key, value in result_data.items():\n",
    "        all_results.append(value)\n",
    "        \n",
    "    # Combine results for each key over all folds\n",
    "    keys = value.keys()\n",
    "    combined_results_data = {key: np.array([d[key] for d in all_results]) for key in keys}\n",
    "    means = {key: np.mean(values) for key, values in combined_results_data.items()}\n",
    "    stds = {key: np.std(values) for key, values in combined_results_data.items()} \n",
    "\n",
    "    print(f\"Results of {type_of_survival} for experiment {exp_name}:\")     \n",
    "    for key in combined_results_data:\n",
    "        if not key in list_non_keys:\n",
    "            mean = means[key]\n",
    "            std = stds[key]\n",
    "            print(f\"{key}: {mean:.3f}±{std:.3f}\")\n"
   ]
  },
  {
   "cell_type": "code",
   "execution_count": 9,
   "metadata": {},
   "outputs": [
    {
     "name": "stdout",
     "output_type": "stream",
     "text": [
      "Results of dss_survival_brca for experiment DIMAF:\n",
      "disentanglement_D1_loss: 0.420±0.033\n",
      "disentanglement_D2_loss: 0.639±0.037\n",
      "c_index: 0.737±0.062\n",
      "c_index_ipcw: 0.533±0.182\n",
      "Total Disentanglement dcor: 0.382±0.026\n",
      "D1 Disentanglement dcor: 0.268±0.018\n",
      "D2 Disentanglement dcor: 0.495±0.037\n",
      "Total Disentanglement orth: 0.059±0.019\n",
      "D1 Disentanglement orth: 0.075±0.037\n",
      "D2 Disentanglement orth: 0.043±0.006\n"
     ]
    }
   ],
   "source": [
    "# Print results\n",
    "obtain_test_results(type_of_survival='dss_survival_brca', exp_name='DIMAF')"
   ]
  }
 ],
 "metadata": {
  "kernelspec": {
   "display_name": "dimaf2",
   "language": "python",
   "name": "python3"
  },
  "language_info": {
   "codemirror_mode": {
    "name": "ipython",
    "version": 3
   },
   "file_extension": ".py",
   "mimetype": "text/x-python",
   "name": "python",
   "nbconvert_exporter": "python",
   "pygments_lexer": "ipython3",
   "version": "3.9.23"
  }
 },
 "nbformat": 4,
 "nbformat_minor": 2
}
